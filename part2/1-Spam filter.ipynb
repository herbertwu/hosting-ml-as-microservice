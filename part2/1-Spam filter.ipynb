{
 "cells": [
  {
   "cell_type": "markdown",
   "metadata": {
    "pycharm": {
     "name": "#%% md\n"
    }
   },
   "source": [
    "## Part 2: Training your own ML Model\n",
    "\n",
    "<a href=\"https://colab.research.google.com/github/peckjon/hosting-ml-as-microservice/blob/master/part2/train_sentiment_analysis.ipynb\" target=\"_parent\"><img src=\"https://colab.research.google.com/assets/colab-badge.svg\" alt=\"Open In Colab\"/></a>"
   ]
  },
  {
   "cell_type": "markdown",
   "metadata": {},
   "source": [
    "### Read contents of files\n",
    "\n",
    "will take a folder as an input, read the files in this folder and store their contents as a Python list data structure"
   ]
  },
  {
   "cell_type": "code",
   "execution_count": 2,
   "metadata": {
    "pycharm": {
     "name": "#%%\n"
    }
   },
   "outputs": [
    {
     "name": "stdout",
     "output_type": "stream",
     "text": [
      "1500\n",
      "3672\n"
     ]
    }
   ],
   "source": [
    "import os\n",
    "import codecs\n",
    "\n",
    "def get_curr_dir():\n",
    "    return os.getcwd().replace(\"\\\\\", \"/\")+\"/\"\n",
    "    \n",
    "def read_in(folder):\n",
    "    files = os.listdir(folder)\n",
    "    a_list = []\n",
    "    for a_file in files:\n",
    "        if not a_file.startswith(\".\"):\n",
    "            f = codecs.open(folder + a_file, \n",
    "                \"r\", encoding = \"ISO-8859-1\", errors=\"ignore\")\n",
    "            a_list.append(f.read())\n",
    "            f.close()\n",
    "    return a_list\n",
    "\n",
    "spam_list = read_in(get_curr_dir()+\"enron1/spam/\")\n",
    "ham_list = read_in(get_curr_dir()+\"enron1/ham/\")\n",
    "print(len(spam_list))\n",
    "print(len(ham_list))"
   ]
  },
  {
   "cell_type": "markdown",
   "metadata": {},
   "source": [
    "### Combine data into single structure"
   ]
  },
  {
   "cell_type": "code",
   "execution_count": 3,
   "metadata": {
    "scrolled": true
   },
   "outputs": [
    {
     "name": "stdout",
     "output_type": "stream",
     "text": [
      "Dataset size = 5172 emails\n"
     ]
    }
   ],
   "source": [
    "import random\n",
    " \n",
    "all_emails = [(email_content, \"spam\") for email_content in spam_list]\n",
    "all_emails += [(email_content, \"ham\") for email_content in ham_list]\n",
    "random.seed(42)\n",
    "random.shuffle(all_emails)\n",
    "print (f\"Dataset size = {str(len(all_emails))} emails\")"
   ]
  },
  {
   "cell_type": "markdown",
   "metadata": {},
   "source": [
    "from text, get features by tokenizing and making all words lowercase\n"
   ]
  },
  {
   "cell_type": "code",
   "execution_count": 4,
   "metadata": {},
   "outputs": [],
   "source": [
    "import nltk\n",
    "from nltk import word_tokenize\n",
    "from nltk.corpus import stopwords\n",
    "from string import punctuation\n",
    "\n",
    "stopwords_eng = stopwords.words('english')\n",
    "\n",
    "def get_features(text):\n",
    "    tokenized_list = [w.lower() for w in word_tokenize(text) if w not in stopwords_eng and w not in punctuation]\n",
    "    features = {}\n",
    "    for word in tokenized_list:\n",
    "        features[word] = True\n",
    "    return features\n",
    "    \n",
    "all_features = [(get_features(email), label) \n",
    "                 for (email, label) in all_emails]\n",
    "#index of all_features is the email index\n",
    "#index 0 of tuple is features (dictionary of words) of the email\n",
    "#index 1 of tuple is the label spam or ham"
   ]
  },
  {
   "cell_type": "code",
   "execution_count": 5,
   "metadata": {},
   "outputs": [
    {
     "name": "stdout",
     "output_type": "stream",
     "text": [
      "Training set size = 3879 emails\n",
      "Test set size = 1293 emails\n"
     ]
    }
   ],
   "source": [
    "from nltk import NaiveBayesClassifier, classify\n",
    " \n",
    "def train(features, proportion):\n",
    "    train_size = int(len(features) * proportion)\n",
    "    train_set, test_set = features[:train_size], features[train_size:]\n",
    "    print (f\"Training set size = {str(len(train_set))} emails\")\n",
    "    print (f\"Test set size = {str(len(test_set))} emails\")\n",
    "    classifier = NaiveBayesClassifier.train(train_set)\n",
    "    return train_set, test_set, classifier\n",
    " \n",
    "train_set, test_set, classifier = train(all_features, 0.75)"
   ]
  },
  {
   "cell_type": "code",
   "execution_count": 7,
   "metadata": {},
   "outputs": [
    {
     "name": "stdout",
     "output_type": "stream",
     "text": [
      "spam\n",
      "spam\n",
      "ham\n",
      "ham\n",
      "ham\n",
      "spam\n"
     ]
    }
   ],
   "source": [
    "print(classifier.classify(get_features(\"Welcome to you burial insurance alert!\")))\n",
    "print(classifier.classify(get_features(\"your email has won $1,000,000!!!!!!\")))\n",
    "print(classifier.classify(get_features(\"Confirmation 05430\")))\n",
    "print(classifier.classify(get_features(\"Board meeting August 10\")))\n",
    "print(classifier.classify(get_features(\"Preparing for the fall semester\")))\n",
    "print(classifier.classify(get_features(\"Free webinar: run your programs faster anywhere\")))"
   ]
  },
  {
   "cell_type": "code",
   "execution_count": 16,
   "metadata": {},
   "outputs": [
    {
     "name": "stdout",
     "output_type": "stream",
     "text": [
      "Accuracy on the training set = 0.9582366589327146\n",
      "Accuracy of the test set = 0.9404485692188709\n",
      "Most Informative Features\n",
      "               forwarded = True              ham : spam   =    184.6 : 1.0\n",
      "                    2004 = True             spam : ham    =    136.8 : 1.0\n",
      "            prescription = True             spam : ham    =    117.4 : 1.0\n",
      "                     nom = True              ham : spam   =    117.1 : 1.0\n",
      "                    pain = True             spam : ham    =     93.1 : 1.0\n",
      "                  health = True             spam : ham    =     81.8 : 1.0\n",
      "                    2001 = True              ham : spam   =     75.2 : 1.0\n",
      "                featured = True             spam : ham    =     73.7 : 1.0\n",
      "                thousand = True             spam : ham    =     72.0 : 1.0\n",
      "                     ect = True              ham : spam   =     71.0 : 1.0\n",
      "             medications = True             spam : ham    =     68.8 : 1.0\n",
      "              nomination = True              ham : spam   =     66.8 : 1.0\n",
      "                  differ = True             spam : ham    =     63.9 : 1.0\n",
      "             subscribers = True             spam : ham    =     63.9 : 1.0\n",
      "                   adobe = True             spam : ham    =     62.3 : 1.0\n",
      "                creative = True             spam : ham    =     62.3 : 1.0\n",
      "                   risks = True             spam : ham    =     62.3 : 1.0\n",
      "                  shares = True             spam : ham    =     59.1 : 1.0\n",
      "                       u = True             spam : ham    =     57.9 : 1.0\n",
      "                     pro = True             spam : ham    =     55.9 : 1.0\n",
      "                    2005 = True             spam : ham    =     53.9 : 1.0\n",
      "                     ali = True             spam : ham    =     52.6 : 1.0\n",
      "                      cc = True              ham : spam   =     52.4 : 1.0\n",
      "                   cheap = True             spam : ham    =     51.0 : 1.0\n",
      "                inherent = True             spam : ham    =     51.0 : 1.0\n",
      "            solicitation = True             spam : ham    =     51.0 : 1.0\n",
      "                  stocks = True             spam : ham    =     50.0 : 1.0\n",
      "                   epson = True             spam : ham    =     49.4 : 1.0\n",
      "                     bob = True              ham : spam   =     49.0 : 1.0\n",
      "                    sony = True             spam : ham    =     47.8 : 1.0\n",
      "                      am = True              ham : spam   =     44.9 : 1.0\n",
      "                 advises = True             spam : ham    =     44.5 : 1.0\n",
      "                   cisco = True             spam : ham    =     44.5 : 1.0\n",
      "                mailings = True             spam : ham    =     44.5 : 1.0\n",
      "             understands = True             spam : ham    =     44.5 : 1.0\n",
      "                 foresee = True             spam : ham    =     42.9 : 1.0\n",
      "                reliable = True             spam : ham    =     42.9 : 1.0\n",
      "                    acts = True             spam : ham    =     41.3 : 1.0\n",
      "                      ex = True             spam : ham    =     37.4 : 1.0\n",
      "                   women = True             spam : ham    =     37.4 : 1.0\n",
      "           advertisement = True             spam : ham    =     36.4 : 1.0\n",
      "                 beliefs = True             spam : ham    =     36.4 : 1.0\n",
      "                 explode = True             spam : ham    =     36.4 : 1.0\n",
      "                 foreign = True             spam : ham    =     36.4 : 1.0\n",
      "               investors = True             spam : ham    =     36.4 : 1.0\n",
      "                powerful = True             spam : ham    =     36.4 : 1.0\n",
      "                 comfort = True             spam : ham    =     34.8 : 1.0\n",
      "                     fat = True             spam : ham    =     34.8 : 1.0\n",
      "                   penny = True             spam : ham    =     34.8 : 1.0\n",
      "                  proven = True             spam : ham    =     34.8 : 1.0\n"
     ]
    }
   ],
   "source": [
    "def evaluate(train_set, test_set, classifier):\n",
    "    print (f\"Accuracy on the training set = {str(classify.accuracy(classifier, train_set))}\")\n",
    "    print (f\"Accuracy of the test set = {str(classify.accuracy(classifier, test_set))}\")\n",
    "    classifier.show_most_informative_features(50)\n",
    " \n",
    "#evaluate(train_set, test_set, classifier)"
   ]
  },
  {
   "cell_type": "markdown",
   "metadata": {},
   "source": [
    "### Define feature extractor and bag-of-words converter\n",
    "\n",
    "Given a list of (already tokenized) words, we need a function to extract just the ones we care about: those not found in the list of English stopwords or standard punctuation.\n",
    "\n",
    "We also need a way to easily turn a list of words into a [bag-of-words](https://en.wikipedia.org/wiki/Bag-of-words_model), pairing each word with the count of its occurrences."
   ]
  },
  {
   "cell_type": "code",
   "execution_count": 3,
   "metadata": {},
   "outputs": [],
   "source": [
    "from nltk.corpus import stopwords\n",
    "from string import punctuation\n",
    "\n",
    "stopwords_eng = stopwords.words('english')\n",
    "\n",
    "def extract_features(words):\n",
    "    return [w for w in words if w not in stopwords_eng and w not in punctuation]\n",
    "\n",
    "def bag_of_words(words):\n",
    "    bag = {}\n",
    "    for w in words:\n",
    "        bag[w] = bag.get(w,0)+1\n",
    "    return bag"
   ]
  },
  {
   "cell_type": "markdown",
   "metadata": {},
   "source": [
    "### Ingest, clean, and convert the positive and negative reviews\n",
    "\n",
    "For both the positive (\"pos\") and negative (\"neg\") sets of reviews, extract the features and convert to bag of words. From these, we construct a list of tuples known as a \"featureset\": the first part of each tuple is the bag of words for that review, and the second is its label (\"pos\"/\"neg\").\n",
    "\n",
    "Note that `movie_reviews.words(fileid)` provides a tokenized list of words. If we wanted the un-tokenized text, we would use `movie_reviews.raw(fileid)` instead, then tokenize it using our preferred tokenizeer (e.g. [nltk.tokenize.word_tokenize](https://www.nltk.org/api/nltk.tokenize.html#nltk.tokenize.punkt.PunktLanguageVars.word_tokenize))."
   ]
  },
  {
   "cell_type": "code",
   "execution_count": 4,
   "metadata": {},
   "outputs": [],
   "source": [
    "from nltk.corpus import movie_reviews\n",
    "\n",
    "reviews_pos = []\n",
    "reviews_neg = []\n",
    "for fileid in movie_reviews.fileids('pos'):\n",
    "    words = extract_features(movie_reviews.words(fileid))\n",
    "    reviews_pos.append((bag_of_words(words), 'pos'))\n",
    "for fileid in movie_reviews.fileids('neg'):\n",
    "    words = extract_features(movie_reviews.words(fileid))\n",
    "    reviews_neg.append((bag_of_words(words), 'neg'))"
   ]
  },
  {
   "cell_type": "markdown",
   "metadata": {},
   "source": [
    "### Split reviews into training and test sets\n",
    "We need to break up each group of reviews into a training set (about 80%) and a test set (the remaining 20%). In case there's some meaningful order to the reviews (e.g. the first 800 are from one group of reviewers, the next 200 are from another), we shuffle the sets first to ensure we aren't introducing additional bias. Note that this means our accuracy will not be exactly the same on every run; if you wish to see consistent results on each run, you can stabilize the shuffle by calling [random.seed(n)](https://www.geeksforgeeks.org/random-seed-in-python/) first."
   ]
  },
  {
   "cell_type": "code",
   "execution_count": 5,
   "metadata": {},
   "outputs": [],
   "source": [
    "from random import shuffle\n",
    "\n",
    "split_pct = .80\n",
    "\n",
    "def split_set(review_set):\n",
    "    split = int(len(review_set)*split_pct)\n",
    "    return (review_set[:split], review_set[split:])\n",
    "\n",
    "shuffle(reviews_pos)\n",
    "shuffle(reviews_neg)\n",
    "\n",
    "pos_train, pos_test = split_set(reviews_pos)\n",
    "neg_train, neg_test = split_set(reviews_neg)\n",
    "\n",
    "train_set = pos_train+neg_train\n",
    "test_set = pos_test+neg_test"
   ]
  },
  {
   "cell_type": "markdown",
   "metadata": {},
   "source": [
    "### Train the model\n",
    "\n",
    "Now that our data is ready, the training step itself is quite simple if we use the [NaiveBayesClassifier](https://www.nltk.org/api/nltk.classify.html#module-nltk.classify.naivebayes) provided by NLTK.\n",
    "\n",
    "If you are used to methods such as `model.fit(x,y)` which take two parameters -- the data and the labels -- it may be confusing that `NaiveBayesClassifier.train` takes just one argument. This is because the labels are already embedded in `train_set`: each element in the set is a Bag of Words paired with a 'pos' or 'neg'; value."
   ]
  },
  {
   "cell_type": "code",
   "execution_count": 6,
   "metadata": {},
   "outputs": [],
   "source": [
    "from nltk.classify import NaiveBayesClassifier\n",
    "\n",
    "model = NaiveBayesClassifier.train(train_set)"
   ]
  },
  {
   "cell_type": "markdown",
   "metadata": {},
   "source": [
    "### Check model accuracy\n",
    "\n",
    "NLTK's built-in [accuracy](https://www.nltk.org/api/nltk.classify.html#module-nltk.classify.util) utility can run our test_set through the model and compare the labels returned by the model to the labels in the test set, producing an overall % accuracy. Not too impressive, right? We need to improve."
   ]
  },
  {
   "cell_type": "code",
   "execution_count": 7,
   "metadata": {},
   "outputs": [
    {
     "name": "stdout",
     "output_type": "stream",
     "text": [
      "75.0\n"
     ]
    }
   ],
   "source": [
    "from nltk.classify.util import accuracy\n",
    "\n",
    "print(100 * accuracy(model, test_set))"
   ]
  },
  {
   "cell_type": "markdown",
   "metadata": {},
   "source": [
    "### Save the model\n",
    "Our trained model will be cleared from memory when this notebook is closed. So that we can use it again later, save the model as a file using the [pickle](https://docs.python.org/3/library/pickle.html) serializer."
   ]
  },
  {
   "cell_type": "code",
   "execution_count": null,
   "metadata": {
    "pycharm": {
     "name": "#%%\n"
    }
   },
   "outputs": [],
   "source": [
    "import pickle\n",
    "\n",
    "model_file = open('sa_classifier.pickle','wb')\n",
    "pickle.dump(model, model_file)\n",
    "model_file.close()"
   ]
  },
  {
   "cell_type": "markdown",
   "metadata": {},
   "source": [
    "### Save the model (Colab version)\n",
    "\n",
    "Google Colab doesn't provide direct access to files saved during a notebook session, so we need to save it in [Google Drive](https://drive.google.com) instead. The first time you run this, it will ask for permission to access your Google Drive. Follow the instructions, then wait a few minutes and look for a new folder called \"Colab Output\" in [Drive](https://drive.google.com). Note that Colab does not alway sync to Drive immediately, so check the file update times and re-run this cell if it doesn't look like you have the most revent version of your file."
   ]
  },
  {
   "cell_type": "code",
   "execution_count": null,
   "metadata": {
    "collapsed": true
   },
   "outputs": [],
   "source": [
    "import sys\n",
    "if 'google.colab' in sys.modules:\n",
    "    from google.colab import drive\n",
    "    drive.mount('/content/gdrive')\n",
    "    !mkdir -p '/content/gdrive/My Drive/Colab Output'\n",
    "    model_file = open('/content/gdrive/My Drive/Colab Output/sa_classifier.pickle','wb')\n",
    "    pickle.dump(model, model_file)\n",
    "    model_file.flush()\n",
    "    print('Model saved in /content/gdrive/My Drive/Colab Output')\n",
    "    !ls '/content/gdrive/My Drive/Colab Output'\n",
    "    drive.flush_and_unmount()\n",
    "    print('Re-run this cell if you cannot find it in https://drive.google.com')"
   ]
  }
 ],
 "metadata": {
  "anaconda-cloud": {},
  "kernelspec": {
   "display_name": "Python 3",
   "language": "python",
   "name": "python3"
  },
  "language_info": {
   "codemirror_mode": {
    "name": "ipython",
    "version": 3
   },
   "file_extension": ".py",
   "mimetype": "text/x-python",
   "name": "python",
   "nbconvert_exporter": "python",
   "pygments_lexer": "ipython3",
   "version": "3.8.2"
  },
  "pycharm": {
   "stem_cell": {
    "cell_type": "raw",
    "metadata": {
     "collapsed": false
    },
    "source": []
   }
  }
 },
 "nbformat": 4,
 "nbformat_minor": 1
}
